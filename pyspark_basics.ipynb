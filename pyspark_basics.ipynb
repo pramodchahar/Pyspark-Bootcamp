{
 "cells": [
  {
   "cell_type": "markdown",
   "metadata": {},
   "source": [
    "# Pyspark Basics"
   ]
  },
  {
   "cell_type": "code",
   "execution_count": 2,
   "metadata": {},
   "outputs": [],
   "source": [
    "#create pyspark session\n",
    "from pyspark.sql import SparkSession\n",
    "spark=SparkSession.builder.appName('pyspark').getOrCreate()"
   ]
  },
  {
   "cell_type": "code",
   "execution_count": 3,
   "metadata": {},
   "outputs": [],
   "source": [
    "#read the data file\n",
    "df=spark.read.csv('conversion_data.csv')"
   ]
  },
  {
   "cell_type": "code",
   "execution_count": 4,
   "metadata": {},
   "outputs": [
    {
     "name": "stdout",
     "output_type": "stream",
     "text": [
      "+-------+---+--------+------+-------------------+---------+\n",
      "|    _c0|_c1|     _c2|   _c3|                _c4|      _c5|\n",
      "+-------+---+--------+------+-------------------+---------+\n",
      "|country|age|new_user|source|total_pages_visited|converted|\n",
      "|     UK| 25|       1|   Ads|                  1|        0|\n",
      "|     US| 23|       1|   Seo|                  5|        0|\n",
      "|     US| 28|       1|   Seo|                  4|        0|\n",
      "|  China| 39|       1|   Seo|                  5|        0|\n",
      "+-------+---+--------+------+-------------------+---------+\n",
      "only showing top 5 rows\n",
      "\n"
     ]
    }
   ],
   "source": [
    "df.show(5)"
   ]
  },
  {
   "cell_type": "code",
   "execution_count": 5,
   "metadata": {},
   "outputs": [],
   "source": [
    "#read the data file\n",
    "df=spark.read.csv('conversion_data.csv',header=True)"
   ]
  },
  {
   "cell_type": "code",
   "execution_count": 6,
   "metadata": {},
   "outputs": [
    {
     "name": "stdout",
     "output_type": "stream",
     "text": [
      "+-------+---+--------+------+-------------------+---------+\n",
      "|country|age|new_user|source|total_pages_visited|converted|\n",
      "+-------+---+--------+------+-------------------+---------+\n",
      "|     UK| 25|       1|   Ads|                  1|        0|\n",
      "|     US| 23|       1|   Seo|                  5|        0|\n",
      "|     US| 28|       1|   Seo|                  4|        0|\n",
      "|  China| 39|       1|   Seo|                  5|        0|\n",
      "|     US| 30|       1|   Seo|                  6|        0|\n",
      "+-------+---+--------+------+-------------------+---------+\n",
      "only showing top 5 rows\n",
      "\n"
     ]
    }
   ],
   "source": [
    "df.show(5)"
   ]
  },
  {
   "cell_type": "code",
   "execution_count": 7,
   "metadata": {},
   "outputs": [
    {
     "name": "stdout",
     "output_type": "stream",
     "text": [
      "root\n",
      " |-- country: string (nullable = true)\n",
      " |-- age: string (nullable = true)\n",
      " |-- new_user: string (nullable = true)\n",
      " |-- source: string (nullable = true)\n",
      " |-- total_pages_visited: string (nullable = true)\n",
      " |-- converted: string (nullable = true)\n",
      "\n"
     ]
    }
   ],
   "source": [
    "df.printSchema()"
   ]
  },
  {
   "cell_type": "code",
   "execution_count": 10,
   "metadata": {},
   "outputs": [
    {
     "name": "stdout",
     "output_type": "stream",
     "text": [
      "+-------+-------+------------------+-------------------+------+-------------------+-------------------+\n",
      "|summary|country|               age|           new_user|source|total_pages_visited|          converted|\n",
      "+-------+-------+------------------+-------------------+------+-------------------+-------------------+\n",
      "|  count| 316200|            316200|             316200|316200|             316200|             316200|\n",
      "|   mean|   null|30.569857685009488| 0.6854648956356736|  null|  4.872966476913346|0.03225806451612903|\n",
      "| stddev|   null| 8.271801801807728|0.46433119036384723|  null|  3.341103757948214|0.17668497535763514|\n",
      "|    min|  China|               111|                  0|   Ads|                  1|                  0|\n",
      "|    max|     US|                79|                  1|   Seo|                  9|                  1|\n",
      "+-------+-------+------------------+-------------------+------+-------------------+-------------------+\n",
      "\n"
     ]
    }
   ],
   "source": [
    "#statistical summary for data numerical columns\n",
    "df.describe().show()"
   ]
  },
  {
   "cell_type": "code",
   "execution_count": 11,
   "metadata": {},
   "outputs": [
    {
     "data": {
      "text/plain": [
       "Column<b'country'>"
      ]
     },
     "execution_count": 11,
     "metadata": {},
     "output_type": "execute_result"
    }
   ],
   "source": [
    "#acess dataframe column , we get column object \n",
    "df['country']"
   ]
  },
  {
   "cell_type": "code",
   "execution_count": 12,
   "metadata": {},
   "outputs": [
    {
     "data": {
      "text/plain": [
       "pyspark.sql.column.Column"
      ]
     },
     "execution_count": 12,
     "metadata": {},
     "output_type": "execute_result"
    }
   ],
   "source": [
    "type(df['country'])"
   ]
  },
  {
   "cell_type": "code",
   "execution_count": 16,
   "metadata": {},
   "outputs": [
    {
     "name": "stdout",
     "output_type": "stream",
     "text": [
      "+-------+\n",
      "|country|\n",
      "+-------+\n",
      "|     UK|\n",
      "|     US|\n",
      "|     US|\n",
      "|  China|\n",
      "|     US|\n",
      "+-------+\n",
      "only showing top 5 rows\n",
      "\n"
     ]
    }
   ],
   "source": [
    "#access content of colum\n",
    "df.select('country').show(5)"
   ]
  },
  {
   "cell_type": "code",
   "execution_count": 17,
   "metadata": {},
   "outputs": [
    {
     "name": "stdout",
     "output_type": "stream",
     "text": [
      "+-------+------+\n",
      "|country|source|\n",
      "+-------+------+\n",
      "|     UK|   Ads|\n",
      "|     US|   Seo|\n",
      "|     US|   Seo|\n",
      "|  China|   Seo|\n",
      "|     US|   Seo|\n",
      "+-------+------+\n",
      "only showing top 5 rows\n",
      "\n"
     ]
    }
   ],
   "source": [
    "#acess multiple columns\n",
    "df.select(['country','source']).show(5)"
   ]
  },
  {
   "cell_type": "markdown",
   "metadata": {},
   "source": [
    "### Add or Remove column "
   ]
  },
  {
   "cell_type": "markdown",
   "metadata": {},
   "source": [
    "#### using udf (user defined functions)"
   ]
  },
  {
   "cell_type": "code",
   "execution_count": 21,
   "metadata": {},
   "outputs": [],
   "source": [
    "from pyspark.sql.types import StringType\n",
    "from pyspark.sql.functions import udf\n",
    "\n",
    "def country_udf(country):\n",
    "    if country =='UK':\n",
    "        return 'Britain'\n",
    "    elif country =='US':\n",
    "        return 'USA'\n",
    "    elif country =='China':\n",
    "        return 'Asia'\n",
    "    elif country =='Germany':\n",
    "        return 'Deustche'\n",
    "    else:\n",
    "        return country\n",
    "        \n",
    "spark_udf = udf(country_udf, StringType())\n",
    "\n",
    "df=df.withColumn(\"country_new\", spark_udf(df.country))"
   ]
  },
  {
   "cell_type": "code",
   "execution_count": 22,
   "metadata": {},
   "outputs": [
    {
     "name": "stdout",
     "output_type": "stream",
     "text": [
      "+-------+---+--------+------+-------------------+---------+-----------+\n",
      "|country|age|new_user|source|total_pages_visited|converted|country_new|\n",
      "+-------+---+--------+------+-------------------+---------+-----------+\n",
      "|     UK| 25|       1|   Ads|                  1|        0|    Britain|\n",
      "|     US| 23|       1|   Seo|                  5|        0|        USA|\n",
      "|     US| 28|       1|   Seo|                  4|        0|        USA|\n",
      "|  China| 39|       1|   Seo|                  5|        0|       Asia|\n",
      "|     US| 30|       1|   Seo|                  6|        0|        USA|\n",
      "|     US| 31|       0|   Seo|                  1|        0|        USA|\n",
      "|  China| 27|       1|   Seo|                  4|        0|       Asia|\n",
      "|     US| 23|       0|   Ads|                  4|        0|        USA|\n",
      "|     UK| 29|       0|Direct|                  4|        0|    Britain|\n",
      "|     US| 25|       0|   Ads|                  2|        0|        USA|\n",
      "+-------+---+--------+------+-------------------+---------+-----------+\n",
      "only showing top 10 rows\n",
      "\n"
     ]
    }
   ],
   "source": [
    "df.show(10)"
   ]
  },
  {
   "cell_type": "markdown",
   "metadata": {},
   "source": [
    "#### without using udf "
   ]
  },
  {
   "cell_type": "code",
   "execution_count": 26,
   "metadata": {},
   "outputs": [],
   "source": [
    "#create new column with age +2  value\n",
    "df=df.withColumn('new_age',df['age'] +2)"
   ]
  },
  {
   "cell_type": "code",
   "execution_count": 27,
   "metadata": {},
   "outputs": [
    {
     "name": "stdout",
     "output_type": "stream",
     "text": [
      "+-------+---+--------+------+-------------------+---------+-----------+-------+\n",
      "|country|age|new_user|source|total_pages_visited|converted|country_new|new_age|\n",
      "+-------+---+--------+------+-------------------+---------+-----------+-------+\n",
      "|     UK| 25|       1|   Ads|                  1|        0|    Britain|   27.0|\n",
      "|     US| 23|       1|   Seo|                  5|        0|        USA|   25.0|\n",
      "|     US| 28|       1|   Seo|                  4|        0|        USA|   30.0|\n",
      "|  China| 39|       1|   Seo|                  5|        0|       Asia|   41.0|\n",
      "|     US| 30|       1|   Seo|                  6|        0|        USA|   32.0|\n",
      "|     US| 31|       0|   Seo|                  1|        0|        USA|   33.0|\n",
      "|  China| 27|       1|   Seo|                  4|        0|       Asia|   29.0|\n",
      "|     US| 23|       0|   Ads|                  4|        0|        USA|   25.0|\n",
      "|     UK| 29|       0|Direct|                  4|        0|    Britain|   31.0|\n",
      "|     US| 25|       0|   Ads|                  2|        0|        USA|   27.0|\n",
      "+-------+---+--------+------+-------------------+---------+-----------+-------+\n",
      "only showing top 10 rows\n",
      "\n"
     ]
    }
   ],
   "source": [
    "df.show(10)"
   ]
  },
  {
   "cell_type": "code",
   "execution_count": null,
   "metadata": {},
   "outputs": [],
   "source": []
  }
 ],
 "metadata": {
  "kernelspec": {
   "display_name": "Python 3",
   "language": "python",
   "name": "python3"
  },
  "language_info": {
   "codemirror_mode": {
    "name": "ipython",
    "version": 3
   },
   "file_extension": ".py",
   "mimetype": "text/x-python",
   "name": "python",
   "nbconvert_exporter": "python",
   "pygments_lexer": "ipython3",
   "version": "3.6.3"
  }
 },
 "nbformat": 4,
 "nbformat_minor": 2
}
